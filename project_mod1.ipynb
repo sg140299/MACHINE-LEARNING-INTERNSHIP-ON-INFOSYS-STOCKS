{
 "cells": [
  {
   "cell_type": "code",
   "execution_count": 1,
   "metadata": {},
   "outputs": [],
   "source": [
    "import pandas as pd\n",
    "data=pd.read_csv('INFY.csv',delimiter=',')    #used to load csv_file given"
   ]
  },
  {
   "cell_type": "code",
   "execution_count": 2,
   "metadata": {},
   "outputs": [
    {
     "data": {
      "text/plain": [
       "{'BL', 'EQ'}"
      ]
     },
     "execution_count": 2,
     "metadata": {},
     "output_type": "execute_result"
    }
   ],
   "source": [
    "categories=set(data['Series'])              #used to find how many categories of Series column distinct values are present\n",
    "categories"
   ]
  },
  {
   "cell_type": "code",
   "execution_count": 3,
   "metadata": {},
   "outputs": [
    {
     "data": {
      "text/plain": [
       "0      15-May-2017\n",
       "1      16-May-2017\n",
       "2      17-May-2017\n",
       "3      18-May-2017\n",
       "4      19-May-2017\n",
       "          ...     \n",
       "491    07-May-2019\n",
       "492    08-May-2019\n",
       "493    09-May-2019\n",
       "494    10-May-2019\n",
       "495    13-May-2019\n",
       "Name: Date, Length: 496, dtype: object"
      ]
     },
     "execution_count": 3,
     "metadata": {},
     "output_type": "execute_result"
    }
   ],
   "source": [
    "date=data['Date']                          #used to display the date column\n",
    "date"
   ]
  },
  {
   "cell_type": "code",
   "execution_count": 4,
   "metadata": {},
   "outputs": [],
   "source": [
    "bol_arr=data['Series']!='EQ'                              #the bool array contains true values with given condition\n",
    "l=list(data[bol_arr].index)                               #the corresponding indices of the rows in which previous condition is satisfied\n",
    "pd.DataFrame.drop(data,index=l,axis=0,inplace=True)       #used to delete the previos rows from the data"
   ]
  },
  {
   "cell_type": "code",
   "execution_count": 5,
   "metadata": {},
   "outputs": [
    {
     "data": {
      "text/html": [
       "<div>\n",
       "<style scoped>\n",
       "    .dataframe tbody tr th:only-of-type {\n",
       "        vertical-align: middle;\n",
       "    }\n",
       "\n",
       "    .dataframe tbody tr th {\n",
       "        vertical-align: top;\n",
       "    }\n",
       "\n",
       "    .dataframe thead th {\n",
       "        text-align: right;\n",
       "    }\n",
       "</style>\n",
       "<table border=\"1\" class=\"dataframe\">\n",
       "  <thead>\n",
       "    <tr style=\"text-align: right;\">\n",
       "      <th></th>\n",
       "      <th>Symbol</th>\n",
       "      <th>Series</th>\n",
       "      <th>Date</th>\n",
       "      <th>Prev Close</th>\n",
       "      <th>Open Price</th>\n",
       "      <th>High Price</th>\n",
       "      <th>Low Price</th>\n",
       "      <th>Last Price</th>\n",
       "      <th>Close Price</th>\n",
       "      <th>Average Price</th>\n",
       "      <th>Total Traded Quantity</th>\n",
       "      <th>Turnover</th>\n",
       "      <th>No. of Trades</th>\n",
       "      <th>Deliverable Qty</th>\n",
       "      <th>% Dly Qt to Traded Qty</th>\n",
       "    </tr>\n",
       "  </thead>\n",
       "  <tbody>\n",
       "    <tr>\n",
       "      <th>0</th>\n",
       "      <td>INFY</td>\n",
       "      <td>EQ</td>\n",
       "      <td>15-May-2017</td>\n",
       "      <td>964.25</td>\n",
       "      <td>963.5</td>\n",
       "      <td>963.50</td>\n",
       "      <td>949.10</td>\n",
       "      <td>953.25</td>\n",
       "      <td>951.55</td>\n",
       "      <td>951.49</td>\n",
       "      <td>3648582</td>\n",
       "      <td>3.471580e+09</td>\n",
       "      <td>75335</td>\n",
       "      <td>3052819</td>\n",
       "      <td>83.67</td>\n",
       "    </tr>\n",
       "    <tr>\n",
       "      <th>1</th>\n",
       "      <td>INFY</td>\n",
       "      <td>EQ</td>\n",
       "      <td>16-May-2017</td>\n",
       "      <td>951.55</td>\n",
       "      <td>953.1</td>\n",
       "      <td>960.15</td>\n",
       "      <td>946.95</td>\n",
       "      <td>956.00</td>\n",
       "      <td>955.00</td>\n",
       "      <td>952.92</td>\n",
       "      <td>3065084</td>\n",
       "      <td>2.920775e+09</td>\n",
       "      <td>71808</td>\n",
       "      <td>1858063</td>\n",
       "      <td>60.62</td>\n",
       "    </tr>\n",
       "    <tr>\n",
       "      <th>2</th>\n",
       "      <td>INFY</td>\n",
       "      <td>EQ</td>\n",
       "      <td>17-May-2017</td>\n",
       "      <td>955.00</td>\n",
       "      <td>951.6</td>\n",
       "      <td>958.45</td>\n",
       "      <td>943.85</td>\n",
       "      <td>952.90</td>\n",
       "      <td>952.80</td>\n",
       "      <td>949.48</td>\n",
       "      <td>1457754</td>\n",
       "      <td>1.384110e+09</td>\n",
       "      <td>75429</td>\n",
       "      <td>792251</td>\n",
       "      <td>54.35</td>\n",
       "    </tr>\n",
       "    <tr>\n",
       "      <th>3</th>\n",
       "      <td>INFY</td>\n",
       "      <td>EQ</td>\n",
       "      <td>18-May-2017</td>\n",
       "      <td>952.80</td>\n",
       "      <td>943.0</td>\n",
       "      <td>973.90</td>\n",
       "      <td>942.85</td>\n",
       "      <td>960.25</td>\n",
       "      <td>961.75</td>\n",
       "      <td>962.61</td>\n",
       "      <td>4028924</td>\n",
       "      <td>3.878282e+09</td>\n",
       "      <td>120990</td>\n",
       "      <td>2309450</td>\n",
       "      <td>57.32</td>\n",
       "    </tr>\n",
       "    <tr>\n",
       "      <th>4</th>\n",
       "      <td>INFY</td>\n",
       "      <td>EQ</td>\n",
       "      <td>19-May-2017</td>\n",
       "      <td>961.75</td>\n",
       "      <td>961.5</td>\n",
       "      <td>962.70</td>\n",
       "      <td>947.85</td>\n",
       "      <td>957.40</td>\n",
       "      <td>957.95</td>\n",
       "      <td>954.18</td>\n",
       "      <td>2128698</td>\n",
       "      <td>2.031155e+09</td>\n",
       "      <td>88897</td>\n",
       "      <td>1457747</td>\n",
       "      <td>68.48</td>\n",
       "    </tr>\n",
       "  </tbody>\n",
       "</table>\n",
       "</div>"
      ],
      "text/plain": [
       "  Symbol Series         Date  Prev Close  Open Price  High Price  Low Price  \\\n",
       "0   INFY     EQ  15-May-2017      964.25       963.5      963.50     949.10   \n",
       "1   INFY     EQ  16-May-2017      951.55       953.1      960.15     946.95   \n",
       "2   INFY     EQ  17-May-2017      955.00       951.6      958.45     943.85   \n",
       "3   INFY     EQ  18-May-2017      952.80       943.0      973.90     942.85   \n",
       "4   INFY     EQ  19-May-2017      961.75       961.5      962.70     947.85   \n",
       "\n",
       "   Last Price  Close Price  Average Price  Total Traded Quantity  \\\n",
       "0      953.25       951.55         951.49                3648582   \n",
       "1      956.00       955.00         952.92                3065084   \n",
       "2      952.90       952.80         949.48                1457754   \n",
       "3      960.25       961.75         962.61                4028924   \n",
       "4      957.40       957.95         954.18                2128698   \n",
       "\n",
       "       Turnover  No. of Trades  Deliverable Qty  % Dly Qt to Traded Qty  \n",
       "0  3.471580e+09          75335          3052819                   83.67  \n",
       "1  2.920775e+09          71808          1858063                   60.62  \n",
       "2  1.384110e+09          75429           792251                   54.35  \n",
       "3  3.878282e+09         120990          2309450                   57.32  \n",
       "4  2.031155e+09          88897          1457747                   68.48  "
      ]
     },
     "execution_count": 5,
     "metadata": {},
     "output_type": "execute_result"
    }
   ],
   "source": [
    "data.head()                                               #used to display first 5 rows of dataframe"
   ]
  },
  {
   "cell_type": "code",
   "execution_count": 6,
   "metadata": {},
   "outputs": [
    {
     "data": {
      "text/html": [
       "<div>\n",
       "<style scoped>\n",
       "    .dataframe tbody tr th:only-of-type {\n",
       "        vertical-align: middle;\n",
       "    }\n",
       "\n",
       "    .dataframe tbody tr th {\n",
       "        vertical-align: top;\n",
       "    }\n",
       "\n",
       "    .dataframe thead th {\n",
       "        text-align: right;\n",
       "    }\n",
       "</style>\n",
       "<table border=\"1\" class=\"dataframe\">\n",
       "  <thead>\n",
       "    <tr style=\"text-align: right;\">\n",
       "      <th></th>\n",
       "      <th>Symbol</th>\n",
       "      <th>Series</th>\n",
       "      <th>Date</th>\n",
       "      <th>Prev Close</th>\n",
       "      <th>Open Price</th>\n",
       "      <th>High Price</th>\n",
       "      <th>Low Price</th>\n",
       "      <th>Last Price</th>\n",
       "      <th>Close Price</th>\n",
       "      <th>Average Price</th>\n",
       "      <th>Total Traded Quantity</th>\n",
       "      <th>Turnover</th>\n",
       "      <th>No. of Trades</th>\n",
       "      <th>Deliverable Qty</th>\n",
       "      <th>% Dly Qt to Traded Qty</th>\n",
       "    </tr>\n",
       "  </thead>\n",
       "  <tbody>\n",
       "    <tr>\n",
       "      <th>491</th>\n",
       "      <td>INFY</td>\n",
       "      <td>EQ</td>\n",
       "      <td>07-May-2019</td>\n",
       "      <td>718.40</td>\n",
       "      <td>720.40</td>\n",
       "      <td>727.90</td>\n",
       "      <td>718.7</td>\n",
       "      <td>724.40</td>\n",
       "      <td>724.55</td>\n",
       "      <td>724.51</td>\n",
       "      <td>5747536</td>\n",
       "      <td>4.164127e+09</td>\n",
       "      <td>104342</td>\n",
       "      <td>3690425</td>\n",
       "      <td>64.21</td>\n",
       "    </tr>\n",
       "    <tr>\n",
       "      <th>492</th>\n",
       "      <td>INFY</td>\n",
       "      <td>EQ</td>\n",
       "      <td>08-May-2019</td>\n",
       "      <td>724.55</td>\n",
       "      <td>721.00</td>\n",
       "      <td>726.00</td>\n",
       "      <td>716.5</td>\n",
       "      <td>718.95</td>\n",
       "      <td>719.35</td>\n",
       "      <td>721.65</td>\n",
       "      <td>6247642</td>\n",
       "      <td>4.508603e+09</td>\n",
       "      <td>162077</td>\n",
       "      <td>3950857</td>\n",
       "      <td>63.24</td>\n",
       "    </tr>\n",
       "    <tr>\n",
       "      <th>493</th>\n",
       "      <td>INFY</td>\n",
       "      <td>EQ</td>\n",
       "      <td>09-May-2019</td>\n",
       "      <td>719.35</td>\n",
       "      <td>719.15</td>\n",
       "      <td>730.30</td>\n",
       "      <td>715.8</td>\n",
       "      <td>722.00</td>\n",
       "      <td>721.05</td>\n",
       "      <td>724.48</td>\n",
       "      <td>7396525</td>\n",
       "      <td>5.358635e+09</td>\n",
       "      <td>242225</td>\n",
       "      <td>4808832</td>\n",
       "      <td>65.01</td>\n",
       "    </tr>\n",
       "    <tr>\n",
       "      <th>494</th>\n",
       "      <td>INFY</td>\n",
       "      <td>EQ</td>\n",
       "      <td>10-May-2019</td>\n",
       "      <td>721.05</td>\n",
       "      <td>720.80</td>\n",
       "      <td>726.00</td>\n",
       "      <td>715.0</td>\n",
       "      <td>716.50</td>\n",
       "      <td>716.85</td>\n",
       "      <td>717.88</td>\n",
       "      <td>8352335</td>\n",
       "      <td>5.995942e+09</td>\n",
       "      <td>181229</td>\n",
       "      <td>5545377</td>\n",
       "      <td>66.39</td>\n",
       "    </tr>\n",
       "    <tr>\n",
       "      <th>495</th>\n",
       "      <td>INFY</td>\n",
       "      <td>EQ</td>\n",
       "      <td>13-May-2019</td>\n",
       "      <td>716.85</td>\n",
       "      <td>716.55</td>\n",
       "      <td>726.45</td>\n",
       "      <td>712.1</td>\n",
       "      <td>718.00</td>\n",
       "      <td>719.70</td>\n",
       "      <td>720.09</td>\n",
       "      <td>6808993</td>\n",
       "      <td>4.903098e+09</td>\n",
       "      <td>201194</td>\n",
       "      <td>4745909</td>\n",
       "      <td>69.70</td>\n",
       "    </tr>\n",
       "  </tbody>\n",
       "</table>\n",
       "</div>"
      ],
      "text/plain": [
       "    Symbol Series         Date  Prev Close  Open Price  High Price  Low Price  \\\n",
       "491   INFY     EQ  07-May-2019      718.40      720.40      727.90      718.7   \n",
       "492   INFY     EQ  08-May-2019      724.55      721.00      726.00      716.5   \n",
       "493   INFY     EQ  09-May-2019      719.35      719.15      730.30      715.8   \n",
       "494   INFY     EQ  10-May-2019      721.05      720.80      726.00      715.0   \n",
       "495   INFY     EQ  13-May-2019      716.85      716.55      726.45      712.1   \n",
       "\n",
       "     Last Price  Close Price  Average Price  Total Traded Quantity  \\\n",
       "491      724.40       724.55         724.51                5747536   \n",
       "492      718.95       719.35         721.65                6247642   \n",
       "493      722.00       721.05         724.48                7396525   \n",
       "494      716.50       716.85         717.88                8352335   \n",
       "495      718.00       719.70         720.09                6808993   \n",
       "\n",
       "         Turnover  No. of Trades  Deliverable Qty  % Dly Qt to Traded Qty  \n",
       "491  4.164127e+09         104342          3690425                   64.21  \n",
       "492  4.508603e+09         162077          3950857                   63.24  \n",
       "493  5.358635e+09         242225          4808832                   65.01  \n",
       "494  5.995942e+09         181229          5545377                   66.39  \n",
       "495  4.903098e+09         201194          4745909                   69.70  "
      ]
     },
     "execution_count": 6,
     "metadata": {},
     "output_type": "execute_result"
    }
   ],
   "source": [
    "data.tail()                                             #used to display last 5 rows of dataframe"
   ]
  },
  {
   "cell_type": "code",
   "execution_count": 7,
   "metadata": {},
   "outputs": [
    {
     "data": {
      "text/html": [
       "<div>\n",
       "<style scoped>\n",
       "    .dataframe tbody tr th:only-of-type {\n",
       "        vertical-align: middle;\n",
       "    }\n",
       "\n",
       "    .dataframe tbody tr th {\n",
       "        vertical-align: top;\n",
       "    }\n",
       "\n",
       "    .dataframe thead th {\n",
       "        text-align: right;\n",
       "    }\n",
       "</style>\n",
       "<table border=\"1\" class=\"dataframe\">\n",
       "  <thead>\n",
       "    <tr style=\"text-align: right;\">\n",
       "      <th></th>\n",
       "      <th>Prev Close</th>\n",
       "      <th>Open Price</th>\n",
       "      <th>High Price</th>\n",
       "      <th>Low Price</th>\n",
       "      <th>Last Price</th>\n",
       "      <th>Close Price</th>\n",
       "      <th>Average Price</th>\n",
       "      <th>Total Traded Quantity</th>\n",
       "      <th>Turnover</th>\n",
       "      <th>No. of Trades</th>\n",
       "      <th>Deliverable Qty</th>\n",
       "      <th>% Dly Qt to Traded Qty</th>\n",
       "    </tr>\n",
       "  </thead>\n",
       "  <tbody>\n",
       "    <tr>\n",
       "      <th>count</th>\n",
       "      <td>494.000000</td>\n",
       "      <td>494.000000</td>\n",
       "      <td>494.000000</td>\n",
       "      <td>494.000000</td>\n",
       "      <td>494.000000</td>\n",
       "      <td>494.000000</td>\n",
       "      <td>494.000000</td>\n",
       "      <td>4.940000e+02</td>\n",
       "      <td>4.940000e+02</td>\n",
       "      <td>4.940000e+02</td>\n",
       "      <td>4.940000e+02</td>\n",
       "      <td>494.000000</td>\n",
       "    </tr>\n",
       "    <tr>\n",
       "      <th>mean</th>\n",
       "      <td>961.440789</td>\n",
       "      <td>961.070040</td>\n",
       "      <td>971.092713</td>\n",
       "      <td>951.052733</td>\n",
       "      <td>960.845648</td>\n",
       "      <td>960.945749</td>\n",
       "      <td>961.166498</td>\n",
       "      <td>6.056365e+06</td>\n",
       "      <td>5.469840e+09</td>\n",
       "      <td>1.361482e+05</td>\n",
       "      <td>3.605878e+06</td>\n",
       "      <td>61.759008</td>\n",
       "    </tr>\n",
       "    <tr>\n",
       "      <th>std</th>\n",
       "      <td>220.761549</td>\n",
       "      <td>220.091227</td>\n",
       "      <td>222.968974</td>\n",
       "      <td>218.714372</td>\n",
       "      <td>220.968590</td>\n",
       "      <td>221.029267</td>\n",
       "      <td>221.102384</td>\n",
       "      <td>5.451445e+06</td>\n",
       "      <td>4.770342e+09</td>\n",
       "      <td>8.557589e+04</td>\n",
       "      <td>2.840733e+06</td>\n",
       "      <td>9.924135</td>\n",
       "    </tr>\n",
       "    <tr>\n",
       "      <th>min</th>\n",
       "      <td>619.100000</td>\n",
       "      <td>621.000000</td>\n",
       "      <td>628.000000</td>\n",
       "      <td>599.850000</td>\n",
       "      <td>619.500000</td>\n",
       "      <td>619.100000</td>\n",
       "      <td>613.780000</td>\n",
       "      <td>5.457170e+05</td>\n",
       "      <td>5.060941e+08</td>\n",
       "      <td>1.388600e+04</td>\n",
       "      <td>3.077410e+05</td>\n",
       "      <td>26.380000</td>\n",
       "    </tr>\n",
       "    <tr>\n",
       "      <th>25%</th>\n",
       "      <td>735.025000</td>\n",
       "      <td>736.187500</td>\n",
       "      <td>742.700000</td>\n",
       "      <td>729.012500</td>\n",
       "      <td>734.125000</td>\n",
       "      <td>734.462500</td>\n",
       "      <td>735.720000</td>\n",
       "      <td>3.148044e+06</td>\n",
       "      <td>3.350973e+09</td>\n",
       "      <td>9.246300e+04</td>\n",
       "      <td>2.064895e+06</td>\n",
       "      <td>55.142500</td>\n",
       "    </tr>\n",
       "    <tr>\n",
       "      <th>50%</th>\n",
       "      <td>956.750000</td>\n",
       "      <td>957.525000</td>\n",
       "      <td>964.775000</td>\n",
       "      <td>948.000000</td>\n",
       "      <td>956.025000</td>\n",
       "      <td>955.975000</td>\n",
       "      <td>955.060000</td>\n",
       "      <td>4.905804e+06</td>\n",
       "      <td>4.601808e+09</td>\n",
       "      <td>1.197605e+05</td>\n",
       "      <td>3.053880e+06</td>\n",
       "      <td>62.270000</td>\n",
       "    </tr>\n",
       "    <tr>\n",
       "      <th>75%</th>\n",
       "      <td>1150.150000</td>\n",
       "      <td>1145.412500</td>\n",
       "      <td>1161.675000</td>\n",
       "      <td>1135.962500</td>\n",
       "      <td>1147.950000</td>\n",
       "      <td>1150.150000</td>\n",
       "      <td>1148.280000</td>\n",
       "      <td>7.303918e+06</td>\n",
       "      <td>6.042062e+09</td>\n",
       "      <td>1.551745e+05</td>\n",
       "      <td>4.332777e+06</td>\n",
       "      <td>68.767500</td>\n",
       "    </tr>\n",
       "    <tr>\n",
       "      <th>max</th>\n",
       "      <td>1441.100000</td>\n",
       "      <td>1449.000000</td>\n",
       "      <td>1467.900000</td>\n",
       "      <td>1430.000000</td>\n",
       "      <td>1440.000000</td>\n",
       "      <td>1441.100000</td>\n",
       "      <td>1451.300000</td>\n",
       "      <td>8.220248e+07</td>\n",
       "      <td>7.662502e+10</td>\n",
       "      <td>1.192900e+06</td>\n",
       "      <td>4.202849e+07</td>\n",
       "      <td>88.700000</td>\n",
       "    </tr>\n",
       "  </tbody>\n",
       "</table>\n",
       "</div>"
      ],
      "text/plain": [
       "        Prev Close   Open Price   High Price    Low Price   Last Price  \\\n",
       "count   494.000000   494.000000   494.000000   494.000000   494.000000   \n",
       "mean    961.440789   961.070040   971.092713   951.052733   960.845648   \n",
       "std     220.761549   220.091227   222.968974   218.714372   220.968590   \n",
       "min     619.100000   621.000000   628.000000   599.850000   619.500000   \n",
       "25%     735.025000   736.187500   742.700000   729.012500   734.125000   \n",
       "50%     956.750000   957.525000   964.775000   948.000000   956.025000   \n",
       "75%    1150.150000  1145.412500  1161.675000  1135.962500  1147.950000   \n",
       "max    1441.100000  1449.000000  1467.900000  1430.000000  1440.000000   \n",
       "\n",
       "       Close Price  Average Price  Total Traded Quantity      Turnover  \\\n",
       "count   494.000000     494.000000           4.940000e+02  4.940000e+02   \n",
       "mean    960.945749     961.166498           6.056365e+06  5.469840e+09   \n",
       "std     221.029267     221.102384           5.451445e+06  4.770342e+09   \n",
       "min     619.100000     613.780000           5.457170e+05  5.060941e+08   \n",
       "25%     734.462500     735.720000           3.148044e+06  3.350973e+09   \n",
       "50%     955.975000     955.060000           4.905804e+06  4.601808e+09   \n",
       "75%    1150.150000    1148.280000           7.303918e+06  6.042062e+09   \n",
       "max    1441.100000    1451.300000           8.220248e+07  7.662502e+10   \n",
       "\n",
       "       No. of Trades  Deliverable Qty  % Dly Qt to Traded Qty  \n",
       "count   4.940000e+02     4.940000e+02              494.000000  \n",
       "mean    1.361482e+05     3.605878e+06               61.759008  \n",
       "std     8.557589e+04     2.840733e+06                9.924135  \n",
       "min     1.388600e+04     3.077410e+05               26.380000  \n",
       "25%     9.246300e+04     2.064895e+06               55.142500  \n",
       "50%     1.197605e+05     3.053880e+06               62.270000  \n",
       "75%     1.551745e+05     4.332777e+06               68.767500  \n",
       "max     1.192900e+06     4.202849e+07               88.700000  "
      ]
     },
     "execution_count": 7,
     "metadata": {},
     "output_type": "execute_result"
    }
   ],
   "source": [
    "data.describe()                                              #used to descibe the dataframe"
   ]
  },
  {
   "cell_type": "code",
   "execution_count": 8,
   "metadata": {},
   "outputs": [],
   "source": [
    "#Question 2"
   ]
  },
  {
   "cell_type": "code",
   "execution_count": 9,
   "metadata": {},
   "outputs": [],
   "source": [
    "s=data.shape[0]                                        #the rows present in the dataframe\n",
    "li=[]\n",
    "for i in range(s-90,s,1):                              #usedto append the indices of last 90 rows\n",
    "    li.append(i)\n",
    "req_data=data.iloc[li]                                 #req_data contains the last 90 rows of data"
   ]
  },
  {
   "cell_type": "code",
   "execution_count": 10,
   "metadata": {},
   "outputs": [
    {
     "name": "stdout",
     "output_type": "stream",
     "text": [
      "Maximum value of the last 90 days closing price is : 767.25\n",
      "Minimum value of the last 90 days closing price is : 658.95\n",
      "Mean value of the last 90 days closing price is : 728.60\n"
     ]
    }
   ],
   "source": [
    "print(\"Maximum value of the last 90 days closing price is :\",req_data['Close Price'].max())         #Maximum closing price among last 90 rows\n",
    "print(\"Minimum value of the last 90 days closing price is :\",req_data['Close Price'].min())         #Minimum closing price among last 90 rows\n",
    "print(\"Mean value of the last 90 days closing price is :\",format(req_data['Close Price'].mean(),'.2f'))    #Average closing price among last 90 rows"
   ]
  },
  {
   "cell_type": "code",
   "execution_count": 11,
   "metadata": {},
   "outputs": [],
   "source": [
    "#Question 3"
   ]
  },
  {
   "cell_type": "code",
   "execution_count": 12,
   "metadata": {},
   "outputs": [
    {
     "name": "stdout",
     "output_type": "stream",
     "text": [
      "Symbol :  object\n",
      "Series :  object\n",
      "Date :  object\n",
      "Prev Close :  float64\n",
      "Open Price :  float64\n",
      "High Price :  float64\n",
      "Low Price :  float64\n",
      "Last Price :  float64\n",
      "Close Price :  float64\n",
      "Average Price :  float64\n",
      "Total Traded Quantity :  int64\n",
      "Turnover :  float64\n",
      "No. of Trades :  int64\n",
      "Deliverable Qty :  int64\n",
      "% Dly Qt to Traded Qty :  float64\n"
     ]
    }
   ],
   "source": [
    "for curr in data.columns:                        #used to display the data types of corresponding columns\n",
    "    print(curr,\": \",data[curr].dtypes)"
   ]
  },
  {
   "cell_type": "code",
   "execution_count": 13,
   "metadata": {},
   "outputs": [
    {
     "data": {
      "text/plain": [
       "0     2017-05-15\n",
       "1     2017-05-16\n",
       "2     2017-05-17\n",
       "3     2017-05-18\n",
       "4     2017-05-19\n",
       "         ...    \n",
       "491   2019-05-07\n",
       "492   2019-05-08\n",
       "493   2019-05-09\n",
       "494   2019-05-10\n",
       "495   2019-05-13\n",
       "Name: Date, Length: 494, dtype: datetime64[ns]"
      ]
     },
     "execution_count": 13,
     "metadata": {},
     "output_type": "execute_result"
    }
   ],
   "source": [
    "data['Date']=data['Date'].astype('datetime64[ns]')               #convert the datatype of Date column from object to datetime64 format\n",
    "data['Date']"
   ]
  },
  {
   "cell_type": "code",
   "execution_count": 14,
   "metadata": {},
   "outputs": [
    {
     "data": {
      "text/plain": [
       "dtype('<M8[ns]')"
      ]
     },
     "execution_count": 14,
     "metadata": {},
     "output_type": "execute_result"
    }
   ],
   "source": [
    "data['Date'].dtypes"
   ]
  },
  {
   "cell_type": "code",
   "execution_count": 15,
   "metadata": {},
   "outputs": [
    {
     "name": "stdout",
     "output_type": "stream",
     "text": [
      "728 days 00:00:00\n"
     ]
    }
   ],
   "source": [
    "print(data['Date'].max()-data['Date'].min())                 #used to calculate the difference b/w the maximum and minimum b/w date values"
   ]
  },
  {
   "cell_type": "code",
   "execution_count": 16,
   "metadata": {},
   "outputs": [],
   "source": [
    "#Question 4"
   ]
  },
  {
   "cell_type": "code",
   "execution_count": 17,
   "metadata": {},
   "outputs": [],
   "source": [
    "data['Price']=(data['High Price']+data['Low Price']+data['Close Price'])/3        #the weighted_average_price is denoted by price in column"
   ]
  },
  {
   "cell_type": "code",
   "execution_count": 18,
   "metadata": {},
   "outputs": [
    {
     "name": "stdout",
     "output_type": "stream",
     "text": [
      "VWAP value in month  5  of year 2017  is equal to  967.5936875762352\n",
      "VWAP value in month  6  of year 2017  is equal to  948.9291543352551\n",
      "VWAP value in month  7  of year 2017  is equal to  979.0978384765084\n",
      "VWAP value in month  8  of year 2017  is equal to  929.6681888298825\n",
      "VWAP value in month  9  of year 2017  is equal to  897.8903582183202\n",
      "VWAP value in month  10  of year 2017  is equal to  930.3643245232862\n",
      "VWAP value in month  11  of year 2017  is equal to  966.5859014568334\n",
      "VWAP value in month  12  of year 2017  is equal to  1011.0075336206653\n",
      "VWAP value in month  1  of year 2018  is equal to  1113.2304443014582\n",
      "VWAP value in month  2  of year 2018  is equal to  1136.04063837507\n",
      "VWAP value in month  3  of year 2018  is equal to  1162.1125870448693\n",
      "VWAP value in month  4  of year 2018  is equal to  1146.1960534678144\n",
      "VWAP value in month  5  of year 2018  is equal to  1196.4412285941223\n",
      "VWAP value in month  6  of year 2018  is equal to  1260.1792575700106\n",
      "VWAP value in month  7  of year 2018  is equal to  1332.0910408635302\n",
      "VWAP value in month  8  of year 2018  is equal to  1394.7671149150146\n",
      "VWAP value in month  9  of year 2018  is equal to  759.8854755649768\n",
      "VWAP value in month  10  of year 2018  is equal to  689.6690486207187\n",
      "VWAP value in month  11  of year 2018  is equal to  651.5344239188968\n",
      "VWAP value in month  12  of year 2018  is equal to  670.8017813948201\n",
      "VWAP value in month  1  of year 2019  is equal to  708.901360886275\n",
      "VWAP value in month  2  of year 2019  is equal to  746.6869462902963\n",
      "VWAP value in month  3  of year 2019  is equal to  725.9747135575781\n",
      "VWAP value in month  4  of year 2019  is equal to  738.4913803929625\n",
      "VWAP value in month  5  of year 2019  is equal to  722.1791762337089\n",
      "\n",
      "=======================================================\n",
      "OUR VWAP ARRAY FOR EACH GROUP IS AS FOLLOWS :\n",
      "\n",
      "[967.5936875762352, 948.9291543352551, 979.0978384765084, 929.6681888298825, 897.8903582183202, 930.3643245232862, 966.5859014568334, 1011.0075336206653, 1113.2304443014582, 1136.04063837507, 1162.1125870448693, 1146.1960534678144, 1196.4412285941223, 1260.1792575700106, 1332.0910408635302, 1394.7671149150146, 759.8854755649768, 689.6690486207187, 651.5344239188968, 670.8017813948201, 708.901360886275, 746.6869462902963, 725.9747135575781, 738.4913803929625, 722.1791762337089]\n",
      "=======================================================\n"
     ]
    }
   ],
   "source": [
    "data['Year']=pd.DatetimeIndex(data['Date']).year                 #extract year from the date column \n",
    "data['Month']=pd.DatetimeIndex(data['Date']).month               #extract month from the date column\n",
    "vwap=[]\n",
    "for ele in list(data.groupby(['Year','Month'])):                 #used to group each eyear value with its month\n",
    "    req=ele[1]                                                   #contains the data grouped \n",
    "    x=req['No. of Trades'].sum()                                 #calculate the sum of product of price and volume\n",
    "    y=(req['Price']*req['No. of Trades']).sum()                  #calculathe total volume of data\n",
    "    m=list(set(req['Month']))[0]                                 #the corresponding month\n",
    "    p=list(set(req['Year']))[0]                                  #the corresponding year\n",
    "    val=(y/x)                                                    #the VWAP value of the current month in current year\n",
    "    print(\"VWAP value in month \",m,\" of year\",p,\" is equal to \",val)\n",
    "    vwap.append(y/x)\n",
    "print()\n",
    "print(\"=======================================================\")\n",
    "print(\"OUR VWAP ARRAY FOR EACH GROUP IS AS FOLLOWS :\")\n",
    "print()\n",
    "print(vwap)\n",
    "print(\"=======================================================\")"
   ]
  },
  {
   "cell_type": "code",
   "execution_count": 19,
   "metadata": {},
   "outputs": [],
   "source": [
    "#Question 5"
   ]
  },
  {
   "cell_type": "code",
   "execution_count": 20,
   "metadata": {},
   "outputs": [
    {
     "name": "stdout",
     "output_type": "stream",
     "text": [
      "Function to calculate the average of average price in last n days is :\n"
     ]
    }
   ],
   "source": [
    "print('Function to calculate the average of average price in last n days is :')"
   ]
  },
  {
   "cell_type": "code",
   "execution_count": 21,
   "metadata": {},
   "outputs": [],
   "source": [
    "def f(n):\n",
    "    req_data=data['Average Price'][data.shape[0]-n:]             #contains the Average price of rows of the last n days\n",
    "    return req_data.mean()                                       #return the average of the average price of the last n days\n",
    "    "
   ]
  },
  {
   "cell_type": "code",
   "execution_count": 22,
   "metadata": {},
   "outputs": [
    {
     "name": "stdout",
     "output_type": "stream",
     "text": [
      "The average of the average price of last 1 Week  is : 721.7057142857144\n",
      "The average of the average price of last 2 Weeks  is : 727.5971428571428\n",
      "The average of the average price of last 1 Month  is : 736.8190322580643\n",
      "The average of the average price of last 3 Months  is : 726.7693478260871\n",
      "The average of the average price of last 6 Months  is : 765.7653846153845\n",
      "The average of the average price of last 1 Year  is : 967.0384931506856\n"
     ]
    }
   ],
   "source": [
    "def f(i,n):                                          \n",
    "    req_data=data['Average Price'][data.shape[0]-n:]                    \n",
    "    print(\"The average of the average price of last\",i,\" is :\",req_data.mean())\n",
    "li=[('1 Week',7),('2 Weeks',14),('1 Month',31),('3 Months',92),('6 Months',182),('1 Year',365)]\n",
    "for ele in li:\n",
    "    f(ele[0],ele[1])"
   ]
  },
  {
   "cell_type": "code",
   "execution_count": 23,
   "metadata": {},
   "outputs": [
    {
     "data": {
      "text/plain": [
       "0     -0.013171\n",
       "1      0.003626\n",
       "2     -0.002304\n",
       "3      0.009393\n",
       "4     -0.003951\n",
       "         ...   \n",
       "491    0.008561\n",
       "492   -0.007177\n",
       "493    0.002363\n",
       "494   -0.005825\n",
       "495    0.003976\n",
       "Name: change, Length: 494, dtype: float64"
      ]
     },
     "execution_count": 23,
     "metadata": {},
     "output_type": "execute_result"
    }
   ],
   "source": [
    "data['change']=(data['Close Price']-data['Prev Close'])/data['Prev Close']           #change column contains the profit or loss in price of each row\n",
    "data['change']"
   ]
  },
  {
   "cell_type": "code",
   "execution_count": 24,
   "metadata": {},
   "outputs": [
    {
     "name": "stdout",
     "output_type": "stream",
     "text": [
      "Function to calculate the average profit or loss of last n days is\n"
     ]
    }
   ],
   "source": [
    "print('Function to calculate the average profit or loss of last n days is')"
   ]
  },
  {
   "cell_type": "code",
   "execution_count": 25,
   "metadata": {},
   "outputs": [],
   "source": [
    "def p_l(n):\n",
    "    req=data['change'][data.shape[0]-n:].sum()             #change column contains the profit or loss in price of each row\n",
    "    return abs(req/n)*100"
   ]
  },
  {
   "cell_type": "code",
   "execution_count": 26,
   "metadata": {},
   "outputs": [],
   "source": [
    "def profit_loss(i,n):\n",
    "    req_data=data['change'][data.shape[0]-n:].sum()\n",
    "    if(req_data<0): \n",
    "        print('Last ',i,\" Average Loss percentage  of \",(abs(req_data/n))*100)\n",
    "    else:\n",
    "        print('Last ',i,\"Average Profit percentage of \",(req_data/n)*100)\n"
   ]
  },
  {
   "cell_type": "code",
   "execution_count": 27,
   "metadata": {},
   "outputs": [
    {
     "name": "stdout",
     "output_type": "stream",
     "text": [
      "Last  1 Week  Average Loss percentage  of  0.2162936076637408\n",
      "Last  2 Weeks Average Profit percentage of  0.03332681287558516\n",
      "Last  1 Month  Average Loss percentage  of  0.06211404214824338\n",
      "Last  3 Months Average Profit percentage of  0.12853977069325304\n",
      "Last  6 Months  Average Loss percentage  of  0.24743091544765142\n",
      "Last  1 Year  Average Loss percentage  of  0.027442203101592774\n"
     ]
    }
   ],
   "source": [
    "li=[('1 Week',7),('2 Weeks',14),('1 Month',31),('3 Months',92),('6 Months',182),('1 Year',365)]\n",
    "for ele in li:\n",
    "    profit_loss(ele[0],ele[1])"
   ]
  },
  {
   "cell_type": "code",
   "execution_count": 28,
   "metadata": {},
   "outputs": [],
   "source": [
    "#Question 6"
   ]
  },
  {
   "cell_type": "code",
   "execution_count": 29,
   "metadata": {},
   "outputs": [],
   "source": [
    "req_data=data['Prev Close']                             #contains the column prev close of all rows\n",
    "data['Day_Perc_Change']=req_data.pct_change(periods =1)  #inbult func used to find  profit and loss in price\n",
    "data['Day_Perc_Change']=data['Day_Perc_Change']*100      # multiply so that value lies in some specified percentage"
   ]
  },
  {
   "cell_type": "code",
   "execution_count": 30,
   "metadata": {},
   "outputs": [
    {
     "name": "stdout",
     "output_type": "stream",
     "text": [
      "The very first value came out to be Nan because the proceding value i.e before the first value is not provided in any dataframe thats why it gives diff as a result of Nan\n"
     ]
    }
   ],
   "source": [
    "print(\"The very first value came out to be Nan because the proceding value i.e before the first value is not provided in any dataframe thats why it gives diff as a result of Nan\")"
   ]
  },
  {
   "cell_type": "code",
   "execution_count": 31,
   "metadata": {},
   "outputs": [],
   "source": [
    "data['Day_Perc_Change'].fillna(0,inplace=True)         #replace the nan entries in corresponding column to 0 "
   ]
  },
  {
   "cell_type": "code",
   "execution_count": 32,
   "metadata": {},
   "outputs": [],
   "source": [
    "#data.head()"
   ]
  },
  {
   "cell_type": "code",
   "execution_count": 33,
   "metadata": {},
   "outputs": [],
   "source": [
    "#Question 7"
   ]
  },
  {
   "cell_type": "code",
   "execution_count": 34,
   "metadata": {},
   "outputs": [],
   "source": [
    "data['Trend']=''                           #make a column named trend and initially marked all values as empty string"
   ]
  },
  {
   "cell_type": "code",
   "execution_count": 35,
   "metadata": {},
   "outputs": [],
   "source": [
    "data.loc[data['Day_Perc_Change'].between(-0.5,0.5,inclusive=False),'Trend']='Slight or No change'"
   ]
  },
  {
   "cell_type": "code",
   "execution_count": 36,
   "metadata": {},
   "outputs": [],
   "source": [
    "data.loc[data['Day_Perc_Change'].between(0.5,1,inclusive=False),'Trend']='Slight Positive'"
   ]
  },
  {
   "cell_type": "code",
   "execution_count": 37,
   "metadata": {},
   "outputs": [],
   "source": [
    "data.loc[data['Day_Perc_Change'].between(-0.5,-1,inclusive=False),'Trend']='Slight Negative'"
   ]
  },
  {
   "cell_type": "code",
   "execution_count": 38,
   "metadata": {},
   "outputs": [],
   "source": [
    "data.loc[data['Day_Perc_Change'].between(1,3,inclusive=False),'Trend']='Positive'"
   ]
  },
  {
   "cell_type": "code",
   "execution_count": 39,
   "metadata": {},
   "outputs": [],
   "source": [
    "data.loc[data['Day_Perc_Change'].between(-1,-3,inclusive=False),'Trend']='Negative'"
   ]
  },
  {
   "cell_type": "code",
   "execution_count": 40,
   "metadata": {},
   "outputs": [],
   "source": [
    "data.loc[data['Day_Perc_Change'].between(3,7,inclusive=False),'Trend']='Among top gainers'"
   ]
  },
  {
   "cell_type": "code",
   "execution_count": 41,
   "metadata": {},
   "outputs": [],
   "source": [
    "data.loc[data['Day_Perc_Change'].between(-3,-7,inclusive=False),'Trend']='Among top Losers'"
   ]
  },
  {
   "cell_type": "code",
   "execution_count": 42,
   "metadata": {},
   "outputs": [],
   "source": [
    "data.loc[data['Day_Perc_Change']>7,'Trend']='Bull run'"
   ]
  },
  {
   "cell_type": "code",
   "execution_count": 43,
   "metadata": {},
   "outputs": [],
   "source": [
    "data.loc[data['Day_Perc_Change']<-7,'Trend']='Bear drop'"
   ]
  },
  {
   "cell_type": "code",
   "execution_count": 44,
   "metadata": {},
   "outputs": [
    {
     "data": {
      "text/plain": [
       "0      Slight or No change\n",
       "1                         \n",
       "2      Slight or No change\n",
       "3      Slight or No change\n",
       "4          Slight Positive\n",
       "              ...         \n",
       "491                       \n",
       "492        Slight Positive\n",
       "493                       \n",
       "494    Slight or No change\n",
       "495                       \n",
       "Name: Trend, Length: 494, dtype: object"
      ]
     },
     "execution_count": 44,
     "metadata": {},
     "output_type": "execute_result"
    }
   ],
   "source": [
    "(data['Trend'])"
   ]
  },
  {
   "cell_type": "code",
   "execution_count": 45,
   "metadata": {},
   "outputs": [],
   "source": [
    "#Question 8"
   ]
  },
  {
   "cell_type": "code",
   "execution_count": 46,
   "metadata": {},
   "outputs": [],
   "source": [
    "data['Trend'].replace('','No specified trend',inplace=True)          #replace all the empty trend to no specified trend            #extract the trends having specific trends as specified in question"
   ]
  },
  {
   "cell_type": "code",
   "execution_count": 47,
   "metadata": {},
   "outputs": [
    {
     "name": "stdout",
     "output_type": "stream",
     "text": [
      "Average among total_traded_quantity on various trends are as follows :\n"
     ]
    }
   ],
   "source": [
    "print(\"Average among total_traded_quantity on various trends are as follows :\")"
   ]
  },
  {
   "cell_type": "code",
   "execution_count": 48,
   "metadata": {},
   "outputs": [
    {
     "data": {
      "text/plain": [
       "Trend\n",
       "Among top gainers      1.427291e+07\n",
       "Bear drop              2.693128e+07\n",
       "No specified trend     5.806829e+06\n",
       "Positive               5.975455e+06\n",
       "Slight Positive        6.101153e+06\n",
       "Slight or No change    5.437268e+06\n",
       "Name: Total Traded Quantity, dtype: float64"
      ]
     },
     "execution_count": 48,
     "metadata": {},
     "output_type": "execute_result"
    }
   ],
   "source": [
    "data.groupby('Trend').mean()['Total Traded Quantity']    #give the mean value of corresponding trend  among total traded quantity"
   ]
  },
  {
   "cell_type": "code",
   "execution_count": 49,
   "metadata": {},
   "outputs": [
    {
     "name": "stdout",
     "output_type": "stream",
     "text": [
      "Median among total_traded_quantity on various trends are as follows :\n"
     ]
    }
   ],
   "source": [
    "print(\"Median among total_traded_quantity on various trends are as follows :\")"
   ]
  },
  {
   "cell_type": "code",
   "execution_count": 50,
   "metadata": {},
   "outputs": [
    {
     "data": {
      "text/plain": [
       "Trend\n",
       "Among top gainers       8171820.0\n",
       "Bear drop              26931283.0\n",
       "No specified trend      5427054.0\n",
       "Positive                4873208.0\n",
       "Slight Positive         5140310.5\n",
       "Slight or No change     4262771.0\n",
       "Name: Total Traded Quantity, dtype: float64"
      ]
     },
     "execution_count": 50,
     "metadata": {},
     "output_type": "execute_result"
    }
   ],
   "source": [
    "data.groupby('Trend').median()['Total Traded Quantity']  #give the median value of corresponding trend  among total traded quantity"
   ]
  },
  {
   "cell_type": "code",
   "execution_count": 51,
   "metadata": {},
   "outputs": [],
   "source": [
    "data.to_csv('week2.csv')"
   ]
  },
  {
   "cell_type": "code",
   "execution_count": 55,
   "metadata": {},
   "outputs": [
    {
     "data": {
      "text/plain": [
       "dtype('O')"
      ]
     },
     "execution_count": 55,
     "metadata": {},
     "output_type": "execute_result"
    }
   ],
   "source": [
    "new_data=pd.read_csv('week2.csv',delimiter=',')\n",
    "new_data['Date'].dtype"
   ]
  },
  {
   "cell_type": "code",
   "execution_count": null,
   "metadata": {},
   "outputs": [],
   "source": []
  }
 ],
 "metadata": {
  "kernelspec": {
   "display_name": "Python 3",
   "language": "python",
   "name": "python3"
  },
  "language_info": {
   "codemirror_mode": {
    "name": "ipython",
    "version": 3
   },
   "file_extension": ".py",
   "mimetype": "text/x-python",
   "name": "python",
   "nbconvert_exporter": "python",
   "pygments_lexer": "ipython3",
   "version": "3.7.6"
  }
 },
 "nbformat": 4,
 "nbformat_minor": 4
}
